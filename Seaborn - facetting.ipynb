{
 "cells": [
  {
   "cell_type": "code",
   "execution_count": 34,
   "metadata": {
    "collapsed": true
   },
   "outputs": [],
   "source": [
    "import pandas as pd\n",
    "import numpy as np\n",
    "\n",
    "from matplotlib import pyplot as plt\n",
    "import seaborn as sns\n",
    "\n",
    "%matplotlib inline"
   ]
  },
  {
   "cell_type": "code",
   "execution_count": 2,
   "metadata": {
    "collapsed": true
   },
   "outputs": [],
   "source": [
    "df = pd.read_csv('./data/college_datav3.csv')"
   ]
  },
  {
   "cell_type": "code",
   "execution_count": 3,
   "metadata": {},
   "outputs": [
    {
     "data": {
      "text/html": [
       "<div>\n",
       "<style>\n",
       "    .dataframe thead tr:only-child th {\n",
       "        text-align: right;\n",
       "    }\n",
       "\n",
       "    .dataframe thead th {\n",
       "        text-align: left;\n",
       "    }\n",
       "\n",
       "    .dataframe tbody tr th {\n",
       "        vertical-align: top;\n",
       "    }\n",
       "</style>\n",
       "<table border=\"1\" class=\"dataframe\">\n",
       "  <thead>\n",
       "    <tr style=\"text-align: right;\">\n",
       "      <th></th>\n",
       "      <th>INSTNM</th>\n",
       "      <th>OPEID</th>\n",
       "      <th>REGION</th>\n",
       "      <th>SAT_AVG_ALL</th>\n",
       "      <th>PCTPELL</th>\n",
       "      <th>PCTFLOAN</th>\n",
       "      <th>ADM_RATE_ALL</th>\n",
       "      <th>UG</th>\n",
       "      <th>AVGFACSAL</th>\n",
       "      <th>COMPL_RPY_5YR_RT</th>\n",
       "      <th>...</th>\n",
       "      <th>CONTROL</th>\n",
       "      <th>WOMENONLY</th>\n",
       "      <th>MENONLY</th>\n",
       "      <th>LOCALE</th>\n",
       "      <th>Tuition</th>\n",
       "      <th>Degree_Type</th>\n",
       "      <th>Ownership</th>\n",
       "      <th>Regions</th>\n",
       "      <th>Locales</th>\n",
       "      <th>Locale_Short</th>\n",
       "    </tr>\n",
       "  </thead>\n",
       "  <tbody>\n",
       "    <tr>\n",
       "      <th>0</th>\n",
       "      <td>Alabama A &amp; M University</td>\n",
       "      <td>100200</td>\n",
       "      <td>5</td>\n",
       "      <td>850.0</td>\n",
       "      <td>0.7249</td>\n",
       "      <td>0.8159</td>\n",
       "      <td>0.653841</td>\n",
       "      <td>4380.0</td>\n",
       "      <td>7017.0</td>\n",
       "      <td>0.477631579</td>\n",
       "      <td>...</td>\n",
       "      <td>1</td>\n",
       "      <td>0.0</td>\n",
       "      <td>0.0</td>\n",
       "      <td>12.0</td>\n",
       "      <td>13435.0</td>\n",
       "      <td>Graduate</td>\n",
       "      <td>Public</td>\n",
       "      <td>South East</td>\n",
       "      <td>City: Midsize</td>\n",
       "      <td>City</td>\n",
       "    </tr>\n",
       "    <tr>\n",
       "      <th>1</th>\n",
       "      <td>University of Alabama at Birmingham</td>\n",
       "      <td>105200</td>\n",
       "      <td>5</td>\n",
       "      <td>1147.0</td>\n",
       "      <td>0.3505</td>\n",
       "      <td>0.5218</td>\n",
       "      <td>0.604275</td>\n",
       "      <td>10331.0</td>\n",
       "      <td>10221.0</td>\n",
       "      <td>0.673230442</td>\n",
       "      <td>...</td>\n",
       "      <td>1</td>\n",
       "      <td>0.0</td>\n",
       "      <td>0.0</td>\n",
       "      <td>12.0</td>\n",
       "      <td>16023.0</td>\n",
       "      <td>Graduate</td>\n",
       "      <td>Public</td>\n",
       "      <td>South East</td>\n",
       "      <td>City: Midsize</td>\n",
       "      <td>City</td>\n",
       "    </tr>\n",
       "    <tr>\n",
       "      <th>2</th>\n",
       "      <td>Amridge University</td>\n",
       "      <td>2503400</td>\n",
       "      <td>5</td>\n",
       "      <td>NaN</td>\n",
       "      <td>0.7455</td>\n",
       "      <td>0.8781</td>\n",
       "      <td>NaN</td>\n",
       "      <td>98.0</td>\n",
       "      <td>3217.0</td>\n",
       "      <td>0.636363636</td>\n",
       "      <td>...</td>\n",
       "      <td>2</td>\n",
       "      <td>0.0</td>\n",
       "      <td>0.0</td>\n",
       "      <td>12.0</td>\n",
       "      <td>8862.0</td>\n",
       "      <td>Graduate</td>\n",
       "      <td>Private non-profit</td>\n",
       "      <td>South East</td>\n",
       "      <td>City: Midsize</td>\n",
       "      <td>City</td>\n",
       "    </tr>\n",
       "    <tr>\n",
       "      <th>3</th>\n",
       "      <td>University of Alabama in Huntsville</td>\n",
       "      <td>105500</td>\n",
       "      <td>5</td>\n",
       "      <td>1221.0</td>\n",
       "      <td>0.3179</td>\n",
       "      <td>0.4589</td>\n",
       "      <td>0.811971</td>\n",
       "      <td>5220.0</td>\n",
       "      <td>9514.0</td>\n",
       "      <td>0.762222222</td>\n",
       "      <td>...</td>\n",
       "      <td>1</td>\n",
       "      <td>0.0</td>\n",
       "      <td>0.0</td>\n",
       "      <td>12.0</td>\n",
       "      <td>18661.0</td>\n",
       "      <td>Graduate</td>\n",
       "      <td>Public</td>\n",
       "      <td>South East</td>\n",
       "      <td>City: Midsize</td>\n",
       "      <td>City</td>\n",
       "    </tr>\n",
       "    <tr>\n",
       "      <th>4</th>\n",
       "      <td>Alabama State University</td>\n",
       "      <td>100500</td>\n",
       "      <td>5</td>\n",
       "      <td>844.0</td>\n",
       "      <td>0.7567</td>\n",
       "      <td>0.7692</td>\n",
       "      <td>0.463858</td>\n",
       "      <td>4348.0</td>\n",
       "      <td>7940.0</td>\n",
       "      <td>0.43006993</td>\n",
       "      <td>...</td>\n",
       "      <td>1</td>\n",
       "      <td>0.0</td>\n",
       "      <td>0.0</td>\n",
       "      <td>12.0</td>\n",
       "      <td>7400.0</td>\n",
       "      <td>Graduate</td>\n",
       "      <td>Public</td>\n",
       "      <td>South East</td>\n",
       "      <td>City: Midsize</td>\n",
       "      <td>City</td>\n",
       "    </tr>\n",
       "  </tbody>\n",
       "</table>\n",
       "<p>5 rows × 24 columns</p>\n",
       "</div>"
      ],
      "text/plain": [
       "                                INSTNM    OPEID  REGION  SAT_AVG_ALL  PCTPELL  \\\n",
       "0             Alabama A & M University   100200       5        850.0   0.7249   \n",
       "1  University of Alabama at Birmingham   105200       5       1147.0   0.3505   \n",
       "2                   Amridge University  2503400       5          NaN   0.7455   \n",
       "3  University of Alabama in Huntsville   105500       5       1221.0   0.3179   \n",
       "4             Alabama State University   100500       5        844.0   0.7567   \n",
       "\n",
       "   PCTFLOAN  ADM_RATE_ALL       UG  AVGFACSAL COMPL_RPY_5YR_RT     ...       \\\n",
       "0    0.8159      0.653841   4380.0     7017.0      0.477631579     ...        \n",
       "1    0.5218      0.604275  10331.0    10221.0      0.673230442     ...        \n",
       "2    0.8781           NaN     98.0     3217.0      0.636363636     ...        \n",
       "3    0.4589      0.811971   5220.0     9514.0      0.762222222     ...        \n",
       "4    0.7692      0.463858   4348.0     7940.0       0.43006993     ...        \n",
       "\n",
       "  CONTROL WOMENONLY  MENONLY  LOCALE  Tuition  Degree_Type  \\\n",
       "0       1       0.0      0.0    12.0  13435.0     Graduate   \n",
       "1       1       0.0      0.0    12.0  16023.0     Graduate   \n",
       "2       2       0.0      0.0    12.0   8862.0     Graduate   \n",
       "3       1       0.0      0.0    12.0  18661.0     Graduate   \n",
       "4       1       0.0      0.0    12.0   7400.0     Graduate   \n",
       "\n",
       "            Ownership     Regions        Locales Locale_Short  \n",
       "0              Public  South East  City: Midsize         City  \n",
       "1              Public  South East  City: Midsize         City  \n",
       "2  Private non-profit  South East  City: Midsize         City  \n",
       "3              Public  South East  City: Midsize         City  \n",
       "4              Public  South East  City: Midsize         City  \n",
       "\n",
       "[5 rows x 24 columns]"
      ]
     },
     "execution_count": 3,
     "metadata": {},
     "output_type": "execute_result"
    }
   ],
   "source": [
    "df.head()"
   ]
  },
  {
   "cell_type": "markdown",
   "metadata": {},
   "source": [
    "# Facetgrid"
   ]
  },
  {
   "cell_type": "code",
   "execution_count": 10,
   "metadata": {},
   "outputs": [
    {
     "data": {
      "text/plain": [
       "<matplotlib.figure.Figure at 0x11a4137f0>"
      ]
     },
     "metadata": {},
     "output_type": "display_data"
    },
    {
     "data": {
      "image/png": "[encoded data removed]",
      "text/plain": [
       "<matplotlib.figure.Figure at 0x11dea0a58>"
      ]
     },
     "metadata": {},
     "output_type": "display_data"
    }
   ],
   "source": [
    "sns.set_style('whitegrid')\n",
    "g2 = sns.FacetGrid(data=df, \n",
    "             col='Degree_Type',\n",
    "             col_order=['Graduate', 'Bachelors', 'Associates' ,'Certificate'])\n",
    "\n",
    "g2.map(sns.pointplot, 'SAT_AVG_ALL')\n",
    "\n",
    "plt.show()\n",
    "plt.clf()"
   ]
  },
  {
   "cell_type": "markdown",
   "metadata": {},
   "source": [
    "# factorplot"
   ]
  },
  {
   "cell_type": "markdown",
   "metadata": {},
   "source": [
    "factorplot is usually shorter than FacetGrid"
   ]
  },
  {
   "cell_type": "code",
   "execution_count": 40,
   "metadata": {
    "scrolled": false
   },
   "outputs": [
    {
     "data": {
      "text/plain": [
       "<seaborn.axisgrid.FacetGrid at 0x1202b47f0>"
      ]
     },
     "execution_count": 40,
     "metadata": {},
     "output_type": "execute_result"
    },
    {
     "data": {
      "image/png": "[encoded data removed]",
      "text/plain": [
       "<matplotlib.figure.Figure at 0x1202b4438>"
      ]
     },
     "metadata": {},
     "output_type": "display_data"
    }
   ],
   "source": [
    "# sns.set(rc={'figure.figsize':(20, 20)})\n",
    "sns.factorplot(data=df,\n",
    "              x='Tuition',\n",
    "              kind='box',\n",
    "              row='Degree_Type')\n"
   ]
  }
 ],
 "metadata": {
  "kernelspec": {
   "display_name": "Python 3",
   "language": "python",
   "name": "python3"
  },
  "language_info": {
   "codemirror_mode": {
    "name": "ipython",
    "version": 3
   },
   "file_extension": ".py",
   "mimetype": "text/x-python",
   "name": "python",
   "nbconvert_exporter": "python",
   "pygments_lexer": "ipython3",
   "version": "3.7.0"
  }
 },
 "nbformat": 4,
 "nbformat_minor": 2
}
